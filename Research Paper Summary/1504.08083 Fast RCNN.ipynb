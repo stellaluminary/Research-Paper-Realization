{
 "cells": [
  {
   "cell_type": "markdown",
   "metadata": {},
   "source": [
    "# 1504.08083 Fast RCNN\n",
    "\n",
    "- Typing and Studying by SGH in 2020-01-11\n",
    "- arxiv : https://arxiv.org/abs/1504.08083\n",
    "- https://github.com/rbgirshick/fast-rcnn : deprecated (using Caffe)\n",
    " - as request it suggest see Faster R-CNN or Detectron, Mask R-CNN\n"
   ]
  },
  {
   "cell_type": "code",
   "execution_count": null,
   "metadata": {},
   "outputs": [],
   "source": []
  }
 ],
 "metadata": {
  "kernelspec": {
   "display_name": "tf20",
   "language": "python",
   "name": "tf20"
  },
  "language_info": {
   "codemirror_mode": {
    "name": "ipython",
    "version": 3
   },
   "file_extension": ".py",
   "mimetype": "text/x-python",
   "name": "python",
   "nbconvert_exporter": "python",
   "pygments_lexer": "ipython3",
   "version": "3.7.4"
  }
 },
 "nbformat": 4,
 "nbformat_minor": 2
}
